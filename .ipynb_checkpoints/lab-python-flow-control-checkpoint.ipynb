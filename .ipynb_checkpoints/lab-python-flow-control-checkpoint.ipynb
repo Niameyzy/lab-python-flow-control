{
 "cells": [
  {
   "cell_type": "markdown",
   "id": "d3bfc191-8885-42ee-b0a0-bbab867c6f9f",
   "metadata": {
    "tags": []
   },
   "source": [
    "# Lab | Flow Control"
   ]
  },
  {
   "cell_type": "markdown",
   "id": "3851fcd1-cf98-4653-9c89-e003b7ec9400",
   "metadata": {},
   "source": [
    "## Exercise: Managing Customer Orders Optimized\n",
    "\n",
    "In the last lab, you were starting an online store that sells various products. To ensure smooth operations, you developed a program that manages customer orders and inventory.\n",
    "\n",
    "You did so without using flow control. Let's go a step further and improve this code.\n",
    "\n",
    "Follow the steps below to complete the exercise:\n",
    "\n",
    "1. Look at your code from the lab data structures, and improve repeated code with loops.\n",
    "\n",
    "2. Instead of asking the user to input the name of three products that a customer wants to order, do the following:\n",
    "    \n",
    "    a. Prompt the user to enter the name of a product that a customer wants to order.\n",
    "    \n",
    "    b. Add the product name to the \"customer_orders\" set.\n",
    "    \n",
    "    c. Ask the user if they want to add another product (yes/no).\n",
    "    \n",
    "    d. Continue the loop until the user does not want to add another product.\n",
    "\n",
    "3. Instead of updating the inventory by subtracting 1 from the quantity of each product, only do it for  the products that were ordered (those in \"customer_orders\")."
   ]
  },
  {
   "cell_type": "code",
   "execution_count": 61,
   "id": "69ea0954-94da-435a-9d03-8f44dc87cf11",
   "metadata": {},
   "outputs": [],
   "source": [
    "products=[\"t-shirt\", \"mug\", \"hat\", \"book\", \"keychain\"]"
   ]
  },
  {
   "cell_type": "code",
   "execution_count": 62,
   "id": "5bfbe36b-8105-449c-a54c-8703af80967f",
   "metadata": {},
   "outputs": [],
   "source": [
    "inventory={}"
   ]
  },
  {
   "cell_type": "code",
   "execution_count": 63,
   "id": "59dafade-ecaf-4776-b06d-a439e407f227",
   "metadata": {},
   "outputs": [
    {
     "name": "stdin",
     "output_type": "stream",
     "text": [
      "please enter a quantity of t-shirt 5\n",
      "please enter a quantity of mug 5\n",
      "please enter a quantity of hat 5\n",
      "please enter a quantity of book 5\n",
      "please enter a quantity of keychain 5\n"
     ]
    },
    {
     "name": "stdout",
     "output_type": "stream",
     "text": [
      "{'t-shirt': 5, 'mug': 5, 'hat': 5, 'book': 5, 'keychain': 5}\n"
     ]
    }
   ],
   "source": [
    "for product in products:\n",
    "    inventory[product]=int(input(f\"please enter a quantity of {product}\"))\n",
    "print(inventory)\n",
    "    "
   ]
  },
  {
   "cell_type": "code",
   "execution_count": 64,
   "id": "1c95a819-d758-4f84-a310-5ae49a317492",
   "metadata": {},
   "outputs": [],
   "source": [
    "customers_orders=set()"
   ]
  },
  {
   "cell_type": "code",
   "execution_count": 68,
   "id": "e69be56c-167e-47a9-88e9-cf6ce144a1b8",
   "metadata": {},
   "outputs": [
    {
     "name": "stdin",
     "output_type": "stream",
     "text": [
      "enter the name of product hat\n",
      "Do you want to add another product? (yes/no):  yes\n",
      "enter the name of product mug\n",
      "Do you want to add another product? (yes/no):  yes\n",
      "enter the name of product book\n",
      "Do you want to add another product? (yes/no):  yes\n",
      "enter the name of product keychain\n",
      "Do you want to add another product? (yes/no):  no\n"
     ]
    },
    {
     "name": "stdout",
     "output_type": "stream",
     "text": [
      "the list of products you ordering is {'keychain', 'mug', 'hat', 'book'}\n"
     ]
    }
   ],
   "source": [
    "# option 1\n",
    "\n",
    "customer_choice=input(\"enter the name of product\")\n",
    "customers_orders.add(customer_choice)\n",
    "\n",
    "user_input=input(\"Do you want to add another product? (yes/no): \")\n",
    "\n",
    "while user_input.lower()==\"yes\":\n",
    "    customer_choice=input(\"enter the name of product\")\n",
    "    customers_orders.add(customer_choice)\n",
    "    user_input=input(\"Do you want to add another product? (yes/no): \")\n",
    "    \n",
    "print(f'the list of products you ordering is {customers_orders}')\n"
   ]
  },
  {
   "cell_type": "code",
   "execution_count": 71,
   "id": "876bd453-cf85-4f05-a5f3-a5c509b84d94",
   "metadata": {},
   "outputs": [
    {
     "name": "stdin",
     "output_type": "stream",
     "text": [
      "Enter the name of the product:  hat\n",
      "Do you want to add another product? (yes/no):  y\n"
     ]
    },
    {
     "name": "stdout",
     "output_type": "stream",
     "text": [
      "Invalid input. Please enter 'yes' or 'no'.\n"
     ]
    },
    {
     "name": "stdin",
     "output_type": "stream",
     "text": [
      "Do you want to add another product? (yes/no):  mug\n"
     ]
    },
    {
     "name": "stdout",
     "output_type": "stream",
     "text": [
      "Invalid input. Please enter 'yes' or 'no'.\n"
     ]
    },
    {
     "name": "stdin",
     "output_type": "stream",
     "text": [
      "Do you want to add another product? (yes/no):  n\n"
     ]
    },
    {
     "name": "stdout",
     "output_type": "stream",
     "text": [
      "Invalid input. Please enter 'yes' or 'no'.\n"
     ]
    },
    {
     "name": "stdin",
     "output_type": "stream",
     "text": [
      "Do you want to add another product? (yes/no):  book\n"
     ]
    },
    {
     "name": "stdout",
     "output_type": "stream",
     "text": [
      "Invalid input. Please enter 'yes' or 'no'.\n"
     ]
    },
    {
     "name": "stdin",
     "output_type": "stream",
     "text": [
      "Do you want to add another product? (yes/no):  n\n"
     ]
    },
    {
     "name": "stdout",
     "output_type": "stream",
     "text": [
      "Invalid input. Please enter 'yes' or 'no'.\n"
     ]
    },
    {
     "name": "stdin",
     "output_type": "stream",
     "text": [
      "Do you want to add another product? (yes/no):  no\n"
     ]
    },
    {
     "name": "stdout",
     "output_type": "stream",
     "text": [
      "The list of products you are ordering is: {'keychain', 'mug', 'hat', 'book'}\n"
     ]
    }
   ],
   "source": [
    "# OPTION 2 triying to control the user_input \n",
    "\n",
    "customer_choice = input(\"Enter the name of the product: \")\n",
    "customers_orders.add(customer_choice)\n",
    "\n",
    "# Ask if the customer wants to add more products, with input validation\n",
    "user_input = input(\"Do you want to add another product? (yes/no): \").lower()\n",
    "\n",
    "while user_input not in [\"yes\", \"no\"]:\n",
    "    print(\"Invalid input. Please enter 'yes' or 'no'.\")\n",
    "    user_input = input(\"Do you want to add another product? (yes/no): \").lower()\n",
    "\n",
    "# Loop to add more products until the customer says 'no'\n",
    "while user_input == \"yes\":\n",
    "    customer_choice = input(\"Enter the name of the product: \")\n",
    "    customers_orders.add(customer_choice)\n",
    "    \n",
    "    # Ask again if the customer wants to add more products, with validation\n",
    "    user_input = input(\"Do you want to add another product? (yes/no): \").lower()\n",
    "    \n",
    "    while user_input not in [\"yes\", \"no\"]:\n",
    "        print(\"Invalid input. Please enter 'yes' or 'no'.\")\n",
    "        user_input = input(\"Do you want to add another product? (yes/no): \").lower()\n",
    "\n",
    "# Print the list of ordered products\n",
    "print(f'The list of products you are ordering is: {customers_orders}')\n"
   ]
  },
  {
   "cell_type": "code",
   "execution_count": 76,
   "id": "7bc149df-ac7d-453b-8ae5-973a282163d7",
   "metadata": {},
   "outputs": [
    {
     "name": "stdout",
     "output_type": "stream",
     "text": [
      "{'t-shirt': 5, 'mug': 1, 'hat': 1, 'book': 1, 'keychain': 1}\n"
     ]
    }
   ],
   "source": [
    "for item in customers_orders:\n",
    "    inventory[item]-=1\n",
    "print(inventory)"
   ]
  },
  {
   "cell_type": "code",
   "execution_count": null,
   "id": "20358263-1a59-4ef8-a104-54bfb4bbe8d6",
   "metadata": {},
   "outputs": [],
   "source": []
  }
 ],
 "metadata": {
  "kernelspec": {
   "display_name": "Python 3 (ipykernel)",
   "language": "python",
   "name": "python3"
  },
  "language_info": {
   "codemirror_mode": {
    "name": "ipython",
    "version": 3
   },
   "file_extension": ".py",
   "mimetype": "text/x-python",
   "name": "python",
   "nbconvert_exporter": "python",
   "pygments_lexer": "ipython3",
   "version": "3.11.7"
  }
 },
 "nbformat": 4,
 "nbformat_minor": 5
}
